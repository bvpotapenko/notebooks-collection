{
  "cells": [
    {
      "cell_type": "markdown",
      "metadata": {
        "id": "5-KF25DWhYkT"
      },
      "source": [
        "In this notebook I will look at the power of SHAP Values"
      ]
    },
    {
      "cell_type": "code",
      "execution_count": 2,
      "metadata": {
        "id": "KdozwSlehYkd"
      },
      "outputs": [],
      "source": [
        "import numpy as np \n",
        "import pandas as pd \n",
        "from sklearn.model_selection import train_test_split\n",
        "from sklearn.ensemble import RandomForestClassifier\n",
        "\n",
        "url = 'https://raw.githubusercontent.com/bvpotapenko/notebooks-collection/main/data/FIFA%202018%20Statistics.csv'\n",
        "data = pd.read_csv(url)\n",
        "y = (data['Man of the Match'] == \"Yes\") # This will convert from tet to binary\n",
        "feature_names = [i for i in data.columns if data[i].dtype == np.int64]\n",
        "\n",
        "X = data[feature_names]\n",
        "train_X, val_X, train_y, val_y = train_test_split(X, y, random_state=1)\n",
        "my_model = RandomForestClassifier(random_state=0).fit(train_X, train_y)"
      ]
    },
    {
      "cell_type": "markdown",
      "metadata": {
        "id": "w_87BarqhhGi"
      },
      "source": [
        "We get the SHAP values for all validation data with the following code. It is short enough that we explain it in the comments."
      ]
    },
    {
      "cell_type": "code",
      "execution_count": null,
      "metadata": {
        "id": "DuXXv_H9jXJj"
      },
      "outputs": [],
      "source": [
        "!pip install shap"
      ]
    },
    {
      "cell_type": "code",
      "execution_count": 13,
      "metadata": {
        "colab": {
          "base_uri": "https://localhost:8080/",
          "height": 894
        },
        "id": "ER0869duhiVP",
        "outputId": "6ee649b0-becd-4179-f0b7-39a5e306ef44"
      },
      "outputs": [
        {
          "ename": "AssertionError",
          "evalue": "Only plot_type = 'bar' is supported for multi-output explanations!",
          "output_type": "error",
          "traceback": [
            "\u001b[1;31m---------------------------------------------------------------------------\u001b[0m",
            "\u001b[1;31mAssertionError\u001b[0m                            Traceback (most recent call last)",
            "Cell \u001b[1;32mIn[13], line 11\u001b[0m\n\u001b[0;32m      8\u001b[0m shap_values \u001b[39m=\u001b[39m explainer\u001b[39m.\u001b[39mshap_values(val_X)\n\u001b[0;32m     10\u001b[0m \u001b[39m# Make plot. Index of [1] is explained in text below.\u001b[39;00m\n\u001b[1;32m---> 11\u001b[0m shap\u001b[39m.\u001b[39;49msummary_plot(shap_values, val_X, plot_type\u001b[39m=\u001b[39;49m\u001b[39m'\u001b[39;49m\u001b[39mdot\u001b[39;49m\u001b[39m'\u001b[39;49m)\n",
            "File \u001b[1;32mt:\\py\\miniconda3\\envs\\shap-p3.10.10\\lib\\site-packages\\shap\\plots\\_beeswarm.py:463\u001b[0m, in \u001b[0;36msummary_legacy\u001b[1;34m(shap_values, features, feature_names, max_display, plot_type, color, axis_color, title, alpha, show, sort, color_bar, plot_size, layered_violin_max_num_bins, class_names, class_inds, color_bar_label, cmap, auto_size_plot, use_log_scale)\u001b[0m\n\u001b[0;32m    461\u001b[0m     \u001b[39mif\u001b[39;00m plot_type \u001b[39mis\u001b[39;00m \u001b[39mNone\u001b[39;00m:\n\u001b[0;32m    462\u001b[0m         plot_type \u001b[39m=\u001b[39m \u001b[39m\"\u001b[39m\u001b[39mbar\u001b[39m\u001b[39m\"\u001b[39m \u001b[39m# default for multi-output explanations\u001b[39;00m\n\u001b[1;32m--> 463\u001b[0m     \u001b[39massert\u001b[39;00m plot_type \u001b[39m==\u001b[39m \u001b[39m\"\u001b[39m\u001b[39mbar\u001b[39m\u001b[39m\"\u001b[39m, \u001b[39m\"\u001b[39m\u001b[39mOnly plot_type = \u001b[39m\u001b[39m'\u001b[39m\u001b[39mbar\u001b[39m\u001b[39m'\u001b[39m\u001b[39m is supported for multi-output explanations!\u001b[39m\u001b[39m\"\u001b[39m\n\u001b[0;32m    464\u001b[0m \u001b[39melse\u001b[39;00m:\n\u001b[0;32m    465\u001b[0m     \u001b[39mif\u001b[39;00m plot_type \u001b[39mis\u001b[39;00m \u001b[39mNone\u001b[39;00m:\n",
            "\u001b[1;31mAssertionError\u001b[0m: Only plot_type = 'bar' is supported for multi-output explanations!"
          ]
        }
      ],
      "source": [
        "import shap \n",
        "\n",
        "# Create object that can calculate shap values\n",
        "explainer = shap.TreeExplainer(my_model)\n",
        "\n",
        "# calculate shap values. This is what we will plot.\n",
        "# Calculate shap_values for all of val_X rather than a single row, to have more data for plot.\n",
        "shap_values = explainer.shap_values(val_X)\n",
        "print(shap_values)\n",
        "# Make plot. Index of [1] is explained in text below.\n",
        "# shap.summary_plot(shap_values[1], val_X, plot_type='dot')"
      ]
    }
  ],
  "metadata": {
    "colab": {
      "provenance": []
    },
    "kernelspec": {
      "display_name": "shap-p3.10.10",
      "language": "python",
      "name": "python3"
    },
    "language_info": {
      "codemirror_mode": {
        "name": "ipython",
        "version": 3
      },
      "file_extension": ".py",
      "mimetype": "text/x-python",
      "name": "python",
      "nbconvert_exporter": "python",
      "pygments_lexer": "ipython3",
      "version": "3.10.10"
    }
  },
  "nbformat": 4,
  "nbformat_minor": 0
}
